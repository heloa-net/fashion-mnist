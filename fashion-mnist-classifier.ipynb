{
 "cells": [
  {
   "cell_type": "code",
   "execution_count": 1,
   "id": "616b1bd3",
   "metadata": {
    "_cell_guid": "b1076dfc-b9ad-4769-8c92-a6c4dae69d19",
    "_uuid": "8f2839f25d086af736a60e9eeb907d3b93b6e0e5",
    "execution": {
     "iopub.execute_input": "2023-01-20T22:38:32.278795Z",
     "iopub.status.busy": "2023-01-20T22:38:32.277907Z",
     "iopub.status.idle": "2023-01-20T22:38:35.618291Z",
     "shell.execute_reply": "2023-01-20T22:38:35.617296Z"
    },
    "papermill": {
     "duration": 3.352339,
     "end_time": "2023-01-20T22:38:35.620981",
     "exception": false,
     "start_time": "2023-01-20T22:38:32.268642",
     "status": "completed"
    },
    "tags": []
   },
   "outputs": [],
   "source": [
    "import numpy as np\n",
    "import pandas as pd\n",
    "import matplotlib.pyplot as plt\n",
    "\n",
    "from pandas import Series, DataFrame\n",
    "from fastai.vision.all import *"
   ]
  },
  {
   "cell_type": "code",
   "execution_count": 2,
   "id": "3a56588d",
   "metadata": {
    "_kg_hide-output": true,
    "execution": {
     "iopub.execute_input": "2023-01-20T22:38:35.635040Z",
     "iopub.status.busy": "2023-01-20T22:38:35.634227Z",
     "iopub.status.idle": "2023-01-20T22:38:41.897837Z",
     "shell.execute_reply": "2023-01-20T22:38:41.896919Z"
    },
    "papermill": {
     "duration": 6.273444,
     "end_time": "2023-01-20T22:38:41.900419",
     "exception": false,
     "start_time": "2023-01-20T22:38:35.626975",
     "status": "completed"
    },
    "tags": []
   },
   "outputs": [
    {
     "data": {
      "text/html": [
       "<div>\n",
       "<style scoped>\n",
       "    .dataframe tbody tr th:only-of-type {\n",
       "        vertical-align: middle;\n",
       "    }\n",
       "\n",
       "    .dataframe tbody tr th {\n",
       "        vertical-align: top;\n",
       "    }\n",
       "\n",
       "    .dataframe thead th {\n",
       "        text-align: right;\n",
       "    }\n",
       "</style>\n",
       "<table border=\"1\" class=\"dataframe\">\n",
       "  <thead>\n",
       "    <tr style=\"text-align: right;\">\n",
       "      <th></th>\n",
       "      <th>label</th>\n",
       "      <th>pixel1</th>\n",
       "      <th>pixel2</th>\n",
       "      <th>pixel3</th>\n",
       "      <th>pixel4</th>\n",
       "      <th>pixel5</th>\n",
       "      <th>pixel6</th>\n",
       "      <th>pixel7</th>\n",
       "      <th>pixel8</th>\n",
       "      <th>pixel9</th>\n",
       "      <th>...</th>\n",
       "      <th>pixel775</th>\n",
       "      <th>pixel776</th>\n",
       "      <th>pixel777</th>\n",
       "      <th>pixel778</th>\n",
       "      <th>pixel779</th>\n",
       "      <th>pixel780</th>\n",
       "      <th>pixel781</th>\n",
       "      <th>pixel782</th>\n",
       "      <th>pixel783</th>\n",
       "      <th>pixel784</th>\n",
       "    </tr>\n",
       "  </thead>\n",
       "  <tbody>\n",
       "    <tr>\n",
       "      <th>0</th>\n",
       "      <td>2</td>\n",
       "      <td>0</td>\n",
       "      <td>0</td>\n",
       "      <td>0</td>\n",
       "      <td>0</td>\n",
       "      <td>0</td>\n",
       "      <td>0</td>\n",
       "      <td>0</td>\n",
       "      <td>0</td>\n",
       "      <td>0</td>\n",
       "      <td>...</td>\n",
       "      <td>0</td>\n",
       "      <td>0</td>\n",
       "      <td>0</td>\n",
       "      <td>0</td>\n",
       "      <td>0</td>\n",
       "      <td>0</td>\n",
       "      <td>0</td>\n",
       "      <td>0</td>\n",
       "      <td>0</td>\n",
       "      <td>0</td>\n",
       "    </tr>\n",
       "    <tr>\n",
       "      <th>1</th>\n",
       "      <td>9</td>\n",
       "      <td>0</td>\n",
       "      <td>0</td>\n",
       "      <td>0</td>\n",
       "      <td>0</td>\n",
       "      <td>0</td>\n",
       "      <td>0</td>\n",
       "      <td>0</td>\n",
       "      <td>0</td>\n",
       "      <td>0</td>\n",
       "      <td>...</td>\n",
       "      <td>0</td>\n",
       "      <td>0</td>\n",
       "      <td>0</td>\n",
       "      <td>0</td>\n",
       "      <td>0</td>\n",
       "      <td>0</td>\n",
       "      <td>0</td>\n",
       "      <td>0</td>\n",
       "      <td>0</td>\n",
       "      <td>0</td>\n",
       "    </tr>\n",
       "    <tr>\n",
       "      <th>2</th>\n",
       "      <td>6</td>\n",
       "      <td>0</td>\n",
       "      <td>0</td>\n",
       "      <td>0</td>\n",
       "      <td>0</td>\n",
       "      <td>0</td>\n",
       "      <td>0</td>\n",
       "      <td>0</td>\n",
       "      <td>5</td>\n",
       "      <td>0</td>\n",
       "      <td>...</td>\n",
       "      <td>0</td>\n",
       "      <td>0</td>\n",
       "      <td>0</td>\n",
       "      <td>30</td>\n",
       "      <td>43</td>\n",
       "      <td>0</td>\n",
       "      <td>0</td>\n",
       "      <td>0</td>\n",
       "      <td>0</td>\n",
       "      <td>0</td>\n",
       "    </tr>\n",
       "    <tr>\n",
       "      <th>3</th>\n",
       "      <td>0</td>\n",
       "      <td>0</td>\n",
       "      <td>0</td>\n",
       "      <td>0</td>\n",
       "      <td>1</td>\n",
       "      <td>2</td>\n",
       "      <td>0</td>\n",
       "      <td>0</td>\n",
       "      <td>0</td>\n",
       "      <td>0</td>\n",
       "      <td>...</td>\n",
       "      <td>3</td>\n",
       "      <td>0</td>\n",
       "      <td>0</td>\n",
       "      <td>0</td>\n",
       "      <td>0</td>\n",
       "      <td>1</td>\n",
       "      <td>0</td>\n",
       "      <td>0</td>\n",
       "      <td>0</td>\n",
       "      <td>0</td>\n",
       "    </tr>\n",
       "    <tr>\n",
       "      <th>4</th>\n",
       "      <td>3</td>\n",
       "      <td>0</td>\n",
       "      <td>0</td>\n",
       "      <td>0</td>\n",
       "      <td>0</td>\n",
       "      <td>0</td>\n",
       "      <td>0</td>\n",
       "      <td>0</td>\n",
       "      <td>0</td>\n",
       "      <td>0</td>\n",
       "      <td>...</td>\n",
       "      <td>0</td>\n",
       "      <td>0</td>\n",
       "      <td>0</td>\n",
       "      <td>0</td>\n",
       "      <td>0</td>\n",
       "      <td>0</td>\n",
       "      <td>0</td>\n",
       "      <td>0</td>\n",
       "      <td>0</td>\n",
       "      <td>0</td>\n",
       "    </tr>\n",
       "  </tbody>\n",
       "</table>\n",
       "<p>5 rows × 785 columns</p>\n",
       "</div>"
      ],
      "text/plain": [
       "   label  pixel1  pixel2  pixel3  pixel4  pixel5  pixel6  pixel7  pixel8  \\\n",
       "0      2       0       0       0       0       0       0       0       0   \n",
       "1      9       0       0       0       0       0       0       0       0   \n",
       "2      6       0       0       0       0       0       0       0       5   \n",
       "3      0       0       0       0       1       2       0       0       0   \n",
       "4      3       0       0       0       0       0       0       0       0   \n",
       "\n",
       "   pixel9  ...  pixel775  pixel776  pixel777  pixel778  pixel779  pixel780  \\\n",
       "0       0  ...         0         0         0         0         0         0   \n",
       "1       0  ...         0         0         0         0         0         0   \n",
       "2       0  ...         0         0         0        30        43         0   \n",
       "3       0  ...         3         0         0         0         0         1   \n",
       "4       0  ...         0         0         0         0         0         0   \n",
       "\n",
       "   pixel781  pixel782  pixel783  pixel784  \n",
       "0         0         0         0         0  \n",
       "1         0         0         0         0  \n",
       "2         0         0         0         0  \n",
       "3         0         0         0         0  \n",
       "4         0         0         0         0  \n",
       "\n",
       "[5 rows x 785 columns]"
      ]
     },
     "execution_count": 2,
     "metadata": {},
     "output_type": "execute_result"
    }
   ],
   "source": [
    "train_df = pd.read_csv('/kaggle/input/fashionmnist/fashion-mnist_train.csv')\n",
    "train_df.head()"
   ]
  },
  {
   "cell_type": "code",
   "execution_count": 3,
   "id": "9804e77c",
   "metadata": {
    "_kg_hide-output": true,
    "execution": {
     "iopub.execute_input": "2023-01-20T22:38:41.914981Z",
     "iopub.status.busy": "2023-01-20T22:38:41.914543Z",
     "iopub.status.idle": "2023-01-20T22:38:42.843339Z",
     "shell.execute_reply": "2023-01-20T22:38:42.842158Z"
    },
    "papermill": {
     "duration": 0.939113,
     "end_time": "2023-01-20T22:38:42.846220",
     "exception": false,
     "start_time": "2023-01-20T22:38:41.907107",
     "status": "completed"
    },
    "tags": []
   },
   "outputs": [
    {
     "data": {
      "text/html": [
       "<div>\n",
       "<style scoped>\n",
       "    .dataframe tbody tr th:only-of-type {\n",
       "        vertical-align: middle;\n",
       "    }\n",
       "\n",
       "    .dataframe tbody tr th {\n",
       "        vertical-align: top;\n",
       "    }\n",
       "\n",
       "    .dataframe thead th {\n",
       "        text-align: right;\n",
       "    }\n",
       "</style>\n",
       "<table border=\"1\" class=\"dataframe\">\n",
       "  <thead>\n",
       "    <tr style=\"text-align: right;\">\n",
       "      <th></th>\n",
       "      <th>label</th>\n",
       "      <th>pixel1</th>\n",
       "      <th>pixel2</th>\n",
       "      <th>pixel3</th>\n",
       "      <th>pixel4</th>\n",
       "      <th>pixel5</th>\n",
       "      <th>pixel6</th>\n",
       "      <th>pixel7</th>\n",
       "      <th>pixel8</th>\n",
       "      <th>pixel9</th>\n",
       "      <th>...</th>\n",
       "      <th>pixel775</th>\n",
       "      <th>pixel776</th>\n",
       "      <th>pixel777</th>\n",
       "      <th>pixel778</th>\n",
       "      <th>pixel779</th>\n",
       "      <th>pixel780</th>\n",
       "      <th>pixel781</th>\n",
       "      <th>pixel782</th>\n",
       "      <th>pixel783</th>\n",
       "      <th>pixel784</th>\n",
       "    </tr>\n",
       "  </thead>\n",
       "  <tbody>\n",
       "    <tr>\n",
       "      <th>0</th>\n",
       "      <td>0</td>\n",
       "      <td>0</td>\n",
       "      <td>0</td>\n",
       "      <td>0</td>\n",
       "      <td>0</td>\n",
       "      <td>0</td>\n",
       "      <td>0</td>\n",
       "      <td>0</td>\n",
       "      <td>9</td>\n",
       "      <td>8</td>\n",
       "      <td>...</td>\n",
       "      <td>103</td>\n",
       "      <td>87</td>\n",
       "      <td>56</td>\n",
       "      <td>0</td>\n",
       "      <td>0</td>\n",
       "      <td>0</td>\n",
       "      <td>0</td>\n",
       "      <td>0</td>\n",
       "      <td>0</td>\n",
       "      <td>0</td>\n",
       "    </tr>\n",
       "    <tr>\n",
       "      <th>1</th>\n",
       "      <td>1</td>\n",
       "      <td>0</td>\n",
       "      <td>0</td>\n",
       "      <td>0</td>\n",
       "      <td>0</td>\n",
       "      <td>0</td>\n",
       "      <td>0</td>\n",
       "      <td>0</td>\n",
       "      <td>0</td>\n",
       "      <td>0</td>\n",
       "      <td>...</td>\n",
       "      <td>34</td>\n",
       "      <td>0</td>\n",
       "      <td>0</td>\n",
       "      <td>0</td>\n",
       "      <td>0</td>\n",
       "      <td>0</td>\n",
       "      <td>0</td>\n",
       "      <td>0</td>\n",
       "      <td>0</td>\n",
       "      <td>0</td>\n",
       "    </tr>\n",
       "    <tr>\n",
       "      <th>2</th>\n",
       "      <td>2</td>\n",
       "      <td>0</td>\n",
       "      <td>0</td>\n",
       "      <td>0</td>\n",
       "      <td>0</td>\n",
       "      <td>0</td>\n",
       "      <td>0</td>\n",
       "      <td>14</td>\n",
       "      <td>53</td>\n",
       "      <td>99</td>\n",
       "      <td>...</td>\n",
       "      <td>0</td>\n",
       "      <td>0</td>\n",
       "      <td>0</td>\n",
       "      <td>0</td>\n",
       "      <td>63</td>\n",
       "      <td>53</td>\n",
       "      <td>31</td>\n",
       "      <td>0</td>\n",
       "      <td>0</td>\n",
       "      <td>0</td>\n",
       "    </tr>\n",
       "    <tr>\n",
       "      <th>3</th>\n",
       "      <td>2</td>\n",
       "      <td>0</td>\n",
       "      <td>0</td>\n",
       "      <td>0</td>\n",
       "      <td>0</td>\n",
       "      <td>0</td>\n",
       "      <td>0</td>\n",
       "      <td>0</td>\n",
       "      <td>0</td>\n",
       "      <td>0</td>\n",
       "      <td>...</td>\n",
       "      <td>137</td>\n",
       "      <td>126</td>\n",
       "      <td>140</td>\n",
       "      <td>0</td>\n",
       "      <td>133</td>\n",
       "      <td>224</td>\n",
       "      <td>222</td>\n",
       "      <td>56</td>\n",
       "      <td>0</td>\n",
       "      <td>0</td>\n",
       "    </tr>\n",
       "    <tr>\n",
       "      <th>4</th>\n",
       "      <td>3</td>\n",
       "      <td>0</td>\n",
       "      <td>0</td>\n",
       "      <td>0</td>\n",
       "      <td>0</td>\n",
       "      <td>0</td>\n",
       "      <td>0</td>\n",
       "      <td>0</td>\n",
       "      <td>0</td>\n",
       "      <td>0</td>\n",
       "      <td>...</td>\n",
       "      <td>0</td>\n",
       "      <td>0</td>\n",
       "      <td>0</td>\n",
       "      <td>0</td>\n",
       "      <td>0</td>\n",
       "      <td>0</td>\n",
       "      <td>0</td>\n",
       "      <td>0</td>\n",
       "      <td>0</td>\n",
       "      <td>0</td>\n",
       "    </tr>\n",
       "  </tbody>\n",
       "</table>\n",
       "<p>5 rows × 785 columns</p>\n",
       "</div>"
      ],
      "text/plain": [
       "   label  pixel1  pixel2  pixel3  pixel4  pixel5  pixel6  pixel7  pixel8  \\\n",
       "0      0       0       0       0       0       0       0       0       9   \n",
       "1      1       0       0       0       0       0       0       0       0   \n",
       "2      2       0       0       0       0       0       0      14      53   \n",
       "3      2       0       0       0       0       0       0       0       0   \n",
       "4      3       0       0       0       0       0       0       0       0   \n",
       "\n",
       "   pixel9  ...  pixel775  pixel776  pixel777  pixel778  pixel779  pixel780  \\\n",
       "0       8  ...       103        87        56         0         0         0   \n",
       "1       0  ...        34         0         0         0         0         0   \n",
       "2      99  ...         0         0         0         0        63        53   \n",
       "3       0  ...       137       126       140         0       133       224   \n",
       "4       0  ...         0         0         0         0         0         0   \n",
       "\n",
       "   pixel781  pixel782  pixel783  pixel784  \n",
       "0         0         0         0         0  \n",
       "1         0         0         0         0  \n",
       "2        31         0         0         0  \n",
       "3       222        56         0         0  \n",
       "4         0         0         0         0  \n",
       "\n",
       "[5 rows x 785 columns]"
      ]
     },
     "execution_count": 3,
     "metadata": {},
     "output_type": "execute_result"
    }
   ],
   "source": [
    "test_df = pd.read_csv('/kaggle/input/fashionmnist/fashion-mnist_test.csv')\n",
    "test_df.head()"
   ]
  },
  {
   "cell_type": "code",
   "execution_count": 4,
   "id": "4f605769",
   "metadata": {
    "execution": {
     "iopub.execute_input": "2023-01-20T22:38:42.861244Z",
     "iopub.status.busy": "2023-01-20T22:38:42.860793Z",
     "iopub.status.idle": "2023-01-20T22:38:42.866263Z",
     "shell.execute_reply": "2023-01-20T22:38:42.865241Z"
    },
    "papermill": {
     "duration": 0.015454,
     "end_time": "2023-01-20T22:38:42.868506",
     "exception": false,
     "start_time": "2023-01-20T22:38:42.853052",
     "status": "completed"
    },
    "tags": []
   },
   "outputs": [],
   "source": [
    "label_description = {\n",
    "0: 'T-shirt/top',\n",
    "1: 'Trouser',\n",
    "2: 'Pullover',\n",
    "3: 'Dress',\n",
    "4: 'Coat',\n",
    "5: 'Sandal',\n",
    "6: 'Shirt',\n",
    "7: 'Sneaker',\n",
    "8: 'Bag',\n",
    "9: 'Ankle boot'}"
   ]
  },
  {
   "cell_type": "code",
   "execution_count": 6,
   "id": "91526125",
   "metadata": {
    "execution": {
     "iopub.execute_input": "2023-01-20T22:38:42.904051Z",
     "iopub.status.busy": "2023-01-20T22:38:42.903661Z",
     "iopub.status.idle": "2023-01-20T22:38:44.237331Z",
     "shell.execute_reply": "2023-01-20T22:38:44.236256Z"
    },
    "papermill": {
     "duration": 1.343987,
     "end_time": "2023-01-20T22:38:44.240069",
     "exception": false,
     "start_time": "2023-01-20T22:38:42.896082",
     "status": "completed"
    },
    "tags": []
   },
   "outputs": [],
   "source": [
    "train_grouped = train_df.groupby('label')\n",
    "means_list = {}\n",
    "samples = {}\n",
    "\n",
    "for label, group in train_grouped:\n",
    "    means_list[label] = group.drop('label', axis=1).values\n",
    "\n",
    "for label, array in means_list.items():\n",
    "        tensors = [torch.tensor(o.reshape((28,28))) for o in array]\n",
    "        stacked = torch.stack(tensors) / 255\n",
    "        samples[label] = stacked[0]\n",
    "        mean = stacked.mean(0)\n",
    "        means_list[label] = mean"
   ]
  },
  {
   "cell_type": "markdown",
   "id": "9333bbf2",
   "metadata": {
    "papermill": {
     "duration": 0.006084,
     "end_time": "2023-01-20T22:38:44.252695",
     "exception": false,
     "start_time": "2023-01-20T22:38:44.246611",
     "status": "completed"
    },
    "tags": []
   },
   "source": [
    "Another way of doing it:\n",
    "```python\n",
    "means_list = {label: torch.stack([torch.tensor(o.reshape((28,28))) for o in array])\n",
    "                for label, array in means_list.items()}\n",
    "means_list = {label: array.mean(0) for label, array in means_list.items()}\n",
    "       "
   ]
  },
  {
   "cell_type": "code",
   "execution_count": 7,
   "id": "bf1e01fb",
   "metadata": {
    "_kg_hide-output": true,
    "execution": {
     "iopub.execute_input": "2023-01-20T22:38:44.269098Z",
     "iopub.status.busy": "2023-01-20T22:38:44.268715Z",
     "iopub.status.idle": "2023-01-20T22:38:44.278031Z",
     "shell.execute_reply": "2023-01-20T22:38:44.276458Z"
    },
    "papermill": {
     "duration": 0.021314,
     "end_time": "2023-01-20T22:38:44.280485",
     "exception": false,
     "start_time": "2023-01-20T22:38:44.259171",
     "status": "completed"
    },
    "tags": []
   },
   "outputs": [
    {
     "name": "stdout",
     "output_type": "stream",
     "text": [
      "All good!\n"
     ]
    }
   ],
   "source": [
    "means = torch.stack([means_list[i] for i in range(10)], axis=0)\n",
    "for i in range(10):\n",
    "    if not torch.all(means[i] == means_list[i]):\n",
    "        print(f'False: {i}')\n",
    "print('All good!')"
   ]
  },
  {
   "cell_type": "markdown",
   "id": "ec249cab",
   "metadata": {
    "papermill": {
     "duration": 0.006521,
     "end_time": "2023-01-20T22:38:44.294257",
     "exception": false,
     "start_time": "2023-01-20T22:38:44.287736",
     "status": "completed"
    },
    "tags": []
   },
   "source": [
    "# A sample of each item"
   ]
  },
  {
   "cell_type": "code",
   "execution_count": 8,
   "id": "1ffe7c5c",
   "metadata": {
    "execution": {
     "iopub.execute_input": "2023-01-20T22:38:44.309860Z",
     "iopub.status.busy": "2023-01-20T22:38:44.309214Z",
     "iopub.status.idle": "2023-01-20T22:38:44.946979Z",
     "shell.execute_reply": "2023-01-20T22:38:44.945904Z"
    },
    "papermill": {
     "duration": 0.64849,
     "end_time": "2023-01-20T22:38:44.949458",
     "exception": false,
     "start_time": "2023-01-20T22:38:44.300968",
     "status": "completed"
    },
    "tags": []
   },
   "outputs": [
    {
     "data": {
      "image/png": "[encoded data removed]",
      "text/plain": [
       "<Figure size 1440x720 with 10 Axes>"
      ]
     },
     "metadata": {
      "needs_background": "light"
     },
     "output_type": "display_data"
    }
   ],
   "source": [
    "fig, axs = plt.subplots(1, 10, figsize=(20,10))\n",
    "axs = axs.ravel()\n",
    "\n",
    "for i in range(10):\n",
    "    axs[i].imshow(samples[i], cmap='Greys')\n",
    "    axs[i].set_title(f'{label_description[i]}')\n",
    "    axs[i].axis('off')\n",
    "plt.show()"
   ]
  },
  {
   "cell_type": "markdown",
   "id": "8c64d31e",
   "metadata": {
    "papermill": {
     "duration": 0.006741,
     "end_time": "2023-01-20T22:38:44.963269",
     "exception": false,
     "start_time": "2023-01-20T22:38:44.956528",
     "status": "completed"
    },
    "tags": []
   },
   "source": [
    "# Mean of each clothing item"
   ]
  },
  {
   "cell_type": "code",
   "execution_count": 9,
   "id": "59dfbbb2",
   "metadata": {
    "execution": {
     "iopub.execute_input": "2023-01-20T22:38:44.978830Z",
     "iopub.status.busy": "2023-01-20T22:38:44.978437Z",
     "iopub.status.idle": "2023-01-20T22:38:45.443052Z",
     "shell.execute_reply": "2023-01-20T22:38:45.441789Z"
    },
    "papermill": {
     "duration": 0.475418,
     "end_time": "2023-01-20T22:38:45.445674",
     "exception": false,
     "start_time": "2023-01-20T22:38:44.970256",
     "status": "completed"
    },
    "tags": []
   },
   "outputs": [
    {
     "data": {
      "image/png": "[encoded data removed]",
      "text/plain": [
       "<Figure size 1440x720 with 10 Axes>"
      ]
     },
     "metadata": {
      "needs_background": "light"
     },
     "output_type": "display_data"
    }
   ],
   "source": [
    "fig, axs = plt.subplots(1, 10, figsize=(20,10))\n",
    "axs = axs.ravel()\n",
    "\n",
    "for i in range(10):\n",
    "    axs[i].imshow(means[i], cmap='Greys')\n",
    "    axs[i].set_title(f'Mean {label_description[i].lower()}')\n",
    "    axs[i].axis('off')\n",
    "plt.show()"
   ]
  },
  {
   "cell_type": "code",
   "execution_count": 11,
   "id": "3071675b",
   "metadata": {
    "execution": {
     "iopub.execute_input": "2023-01-20T22:38:45.485890Z",
     "iopub.status.busy": "2023-01-20T22:38:45.485507Z",
     "iopub.status.idle": "2023-01-20T22:38:45.491970Z",
     "shell.execute_reply": "2023-01-20T22:38:45.491058Z"
    },
    "papermill": {
     "duration": 0.017232,
     "end_time": "2023-01-20T22:38:45.494171",
     "exception": false,
     "start_time": "2023-01-20T22:38:45.476939",
     "status": "completed"
    },
    "tags": []
   },
   "outputs": [],
   "source": [
    "def mnist_distance(a,b): return (a-b).abs().mean((-1,-2))"
   ]
  },
  {
   "cell_type": "code",
   "execution_count": 12,
   "id": "fdbd958a",
   "metadata": {
    "execution": {
     "iopub.execute_input": "2023-01-20T22:38:45.511993Z",
     "iopub.status.busy": "2023-01-20T22:38:45.509894Z",
     "iopub.status.idle": "2023-01-20T22:38:45.537761Z",
     "shell.execute_reply": "2023-01-20T22:38:45.536843Z"
    },
    "papermill": {
     "duration": 0.038752,
     "end_time": "2023-01-20T22:38:45.540256",
     "exception": false,
     "start_time": "2023-01-20T22:38:45.501504",
     "status": "completed"
    },
    "tags": []
   },
   "outputs": [],
   "source": [
    "test_labels = test_df.loc[:,'label']\n",
    "test_img_df = test_df.loc[:, test_df.columns != 'label']"
   ]
  },
  {
   "cell_type": "code",
   "execution_count": 13,
   "id": "6b04bc7c",
   "metadata": {
    "execution": {
     "iopub.execute_input": "2023-01-20T22:38:45.557790Z",
     "iopub.status.busy": "2023-01-20T22:38:45.556792Z",
     "iopub.status.idle": "2023-01-20T22:38:45.766596Z",
     "shell.execute_reply": "2023-01-20T22:38:45.765368Z"
    },
    "papermill": {
     "duration": 0.221577,
     "end_time": "2023-01-20T22:38:45.769325",
     "exception": false,
     "start_time": "2023-01-20T22:38:45.547748",
     "status": "completed"
    },
    "tags": []
   },
   "outputs": [],
   "source": [
    "test_images = torch.stack([torch.tensor(o.reshape((28,28))) / 255 for o in test_img_df.values])"
   ]
  },
  {
   "cell_type": "markdown",
   "id": "ebcb6cf2",
   "metadata": {
    "papermill": {
     "duration": 0.006924,
     "end_time": "2023-01-20T22:38:45.783779",
     "exception": false,
     "start_time": "2023-01-20T22:38:45.776855",
     "status": "completed"
    },
    "tags": []
   },
   "source": [
    "# Create baseline with average items"
   ]
  },
  {
   "cell_type": "code",
   "execution_count": 15,
   "id": "8a2579e4",
   "metadata": {
    "execution": {
     "iopub.execute_input": "2023-01-20T22:38:45.823171Z",
     "iopub.status.busy": "2023-01-20T22:38:45.822358Z",
     "iopub.status.idle": "2023-01-20T22:38:45.984884Z",
     "shell.execute_reply": "2023-01-20T22:38:45.983717Z"
    },
    "papermill": {
     "duration": 0.173656,
     "end_time": "2023-01-20T22:38:45.987403",
     "exception": false,
     "start_time": "2023-01-20T22:38:45.813747",
     "status": "completed"
    },
    "tags": []
   },
   "outputs": [],
   "source": [
    "distances_dict = {}\n",
    "for label in range(10):\n",
    "    distances_dict[label] = mnist_distance(test_images,means[label])"
   ]
  },
  {
   "cell_type": "code",
   "execution_count": 16,
   "id": "92b4c7b1",
   "metadata": {
    "execution": {
     "iopub.execute_input": "2023-01-20T22:38:46.004353Z",
     "iopub.status.busy": "2023-01-20T22:38:46.003659Z",
     "iopub.status.idle": "2023-01-20T22:38:46.009408Z",
     "shell.execute_reply": "2023-01-20T22:38:46.008342Z"
    },
    "papermill": {
     "duration": 0.017072,
     "end_time": "2023-01-20T22:38:46.012131",
     "exception": false,
     "start_time": "2023-01-20T22:38:45.995059",
     "status": "completed"
    },
    "tags": []
   },
   "outputs": [],
   "source": [
    "distances = []\n",
    "distances = torch.stack([distances_dict[i] for i in range(10)], axis=0)\n",
    "transposed_dist = distances.transpose(0,1)"
   ]
  },
  {
   "cell_type": "code",
   "execution_count": 17,
   "id": "da91c4af",
   "metadata": {
    "execution": {
     "iopub.execute_input": "2023-01-20T22:38:46.029152Z",
     "iopub.status.busy": "2023-01-20T22:38:46.028753Z",
     "iopub.status.idle": "2023-01-20T22:38:46.212944Z",
     "shell.execute_reply": "2023-01-20T22:38:46.211999Z"
    },
    "papermill": {
     "duration": 0.195848,
     "end_time": "2023-01-20T22:38:46.215747",
     "exception": false,
     "start_time": "2023-01-20T22:38:46.019899",
     "status": "completed"
    },
    "tags": []
   },
   "outputs": [],
   "source": [
    "baseline_guesses = [1 if torch.argmin(transposed_dist[i]) == test_labels[i] else 0 for i in range(10000)]\n",
    "    \n",
    "baseline_accuracy = np.mean(baseline_guesses)"
   ]
  },
  {
   "cell_type": "markdown",
   "id": "8427c1f0",
   "metadata": {
    "papermill": {
     "duration": 0.006979,
     "end_time": "2023-01-20T22:38:46.230326",
     "exception": false,
     "start_time": "2023-01-20T22:38:46.223347",
     "status": "completed"
    },
    "tags": []
   },
   "source": [
    "## Baseline accuracy is"
   ]
  },
  {
   "cell_type": "code",
   "execution_count": 18,
   "id": "85713692",
   "metadata": {
    "execution": {
     "iopub.execute_input": "2023-01-20T22:38:46.247217Z",
     "iopub.status.busy": "2023-01-20T22:38:46.246068Z",
     "iopub.status.idle": "2023-01-20T22:38:46.254020Z",
     "shell.execute_reply": "2023-01-20T22:38:46.252819Z"
    },
    "papermill": {
     "duration": 0.018988,
     "end_time": "2023-01-20T22:38:46.256538",
     "exception": false,
     "start_time": "2023-01-20T22:38:46.237550",
     "status": "completed"
    },
    "tags": []
   },
   "outputs": [
    {
     "data": {
      "text/plain": [
       "0.6081"
      ]
     },
     "execution_count": 18,
     "metadata": {},
     "output_type": "execute_result"
    }
   ],
   "source": [
    "baseline_accuracy"
   ]
  }
 ],
 "metadata": {
  "kernelspec": {
   "display_name": "Python 3",
   "language": "python",
   "name": "python3"
  },
  "language_info": {
   "codemirror_mode": {
    "name": "ipython",
    "version": 3
   },
   "file_extension": ".py",
   "mimetype": "text/x-python",
   "name": "python",
   "nbconvert_exporter": "python",
   "pygments_lexer": "ipython3",
   "version": "3.7.12"
  },
  "papermill": {
   "default_parameters": {},
   "duration": 24.424144,
   "end_time": "2023-01-20T22:38:47.310506",
   "environment_variables": {},
   "exception": null,
   "input_path": "__notebook__.ipynb",
   "output_path": "__notebook__.ipynb",
   "parameters": {},
   "start_time": "2023-01-20T22:38:22.886362",
   "version": "2.3.4"
  }
 },
 "nbformat": 4,
 "nbformat_minor": 5
}
