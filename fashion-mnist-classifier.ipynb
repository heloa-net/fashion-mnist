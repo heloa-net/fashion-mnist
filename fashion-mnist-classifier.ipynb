{
  "cells": [
    {
      "cell_type": "code",
      "execution_count": 52,
      "id": "616b1bd3",
      "metadata": {
        "_cell_guid": "b1076dfc-b9ad-4769-8c92-a6c4dae69d19",
        "_uuid": "8f2839f25d086af736a60e9eeb907d3b93b6e0e5",
        "execution": {
          "iopub.execute_input": "2023-05-04T02:15:49.891829Z",
          "iopub.status.busy": "2023-05-04T02:15:49.891477Z",
          "iopub.status.idle": "2023-05-04T02:15:53.784960Z",
          "shell.execute_reply": "2023-05-04T02:15:53.784059Z",
          "shell.execute_reply.started": "2023-05-04T02:15:49.891797Z"
        },
        "papermill": {
          "duration": 3.352339,
          "end_time": "2023-01-20T22:38:35.620981",
          "exception": false,
          "start_time": "2023-01-20T22:38:32.268642",
          "status": "completed"
        },
        "tags": [],
        "id": "616b1bd3"
      },
      "outputs": [],
      "source": [
        "import numpy as np\n",
        "import torch\n",
        "import matplotlib.pyplot as plt\n",
        "from torch import nn\n",
        "from torch.utils.data import DataLoader\n",
        "from torch.utils.data import Subset\n",
        "from torchvision import datasets\n",
        "from torchvision.transforms import ToTensor\n",
        "\n",
        "plt.rc('image', cmap='Greys')"
      ]
    },
    {
      "cell_type": "code",
      "execution_count": 53,
      "id": "db441508-e51f-4168-9eac-564b40591591",
      "metadata": {
        "execution": {
          "iopub.execute_input": "2023-05-04T02:15:53.787560Z",
          "iopub.status.busy": "2023-05-04T02:15:53.786934Z",
          "iopub.status.idle": "2023-05-04T02:15:53.819534Z",
          "shell.execute_reply": "2023-05-04T02:15:53.818563Z",
          "shell.execute_reply.started": "2023-05-04T02:15:53.787533Z"
        },
        "colab": {
          "base_uri": "https://localhost:8080/"
        },
        "id": "db441508-e51f-4168-9eac-564b40591591",
        "outputId": "0d8674f6-bd7f-4a4f-dc28-ed67846869ba"
      },
      "outputs": [
        {
          "output_type": "stream",
          "name": "stdout",
          "text": [
            "Using cuda device\n"
          ]
        }
      ],
      "source": [
        "device = \"cuda\" if torch.cuda.is_available() else \"mps\" if torch.backends.mps.is_available() else \"cpu\"\n",
        "print(f\"Using {device} device\")"
      ]
    },
    {
      "cell_type": "code",
      "execution_count": 54,
      "id": "0c1094f0-f591-49b9-bc74-ca9e78be9e6a",
      "metadata": {
        "execution": {
          "iopub.execute_input": "2023-05-04T02:15:53.820919Z",
          "iopub.status.busy": "2023-05-04T02:15:53.820615Z",
          "iopub.status.idle": "2023-05-04T02:15:53.826866Z",
          "shell.execute_reply": "2023-05-04T02:15:53.825814Z",
          "shell.execute_reply.started": "2023-05-04T02:15:53.820891Z"
        },
        "id": "0c1094f0-f591-49b9-bc74-ca9e78be9e6a"
      },
      "outputs": [],
      "source": [
        "classes = [\n",
        "    \"T-shirt/top\",\n",
        "    \"Trouser\",\n",
        "    \"Pullover\",\n",
        "    \"Dress\",\n",
        "    \"Coat\",\n",
        "    \"Sandal\",\n",
        "    \"Shirt\",\n",
        "    \"Sneaker\",\n",
        "    \"Bag\",\n",
        "    \"Ankle boot\",\n",
        "]"
      ]
    },
    {
      "cell_type": "code",
      "execution_count": 55,
      "id": "e5f6c8bd-0599-4934-9c3d-649c900c84d9",
      "metadata": {
        "execution": {
          "iopub.execute_input": "2023-05-04T02:15:53.829287Z",
          "iopub.status.busy": "2023-05-04T02:15:53.829040Z",
          "iopub.status.idle": "2023-05-04T02:15:54.145829Z",
          "shell.execute_reply": "2023-05-04T02:15:54.145020Z",
          "shell.execute_reply.started": "2023-05-04T02:15:53.829263Z"
        },
        "id": "e5f6c8bd-0599-4934-9c3d-649c900c84d9"
      },
      "outputs": [],
      "source": [
        "train_data = datasets.FashionMNIST(\n",
        "    root=\"data\",\n",
        "    train=True,\n",
        "    download=True,\n",
        "    transform=ToTensor()\n",
        ")"
      ]
    },
    {
      "cell_type": "code",
      "execution_count": 56,
      "id": "53b16342-a329-414c-b711-6d4717a92ead",
      "metadata": {
        "execution": {
          "iopub.execute_input": "2023-05-04T02:15:54.152051Z",
          "iopub.status.busy": "2023-05-04T02:15:54.149925Z",
          "iopub.status.idle": "2023-05-04T02:16:08.128691Z",
          "shell.execute_reply": "2023-05-04T02:16:08.127861Z",
          "shell.execute_reply.started": "2023-05-04T02:15:54.152024Z"
        },
        "colab": {
          "base_uri": "https://localhost:8080/"
        },
        "id": "53b16342-a329-414c-b711-6d4717a92ead",
        "outputId": "31694380-8b20-490e-fb2c-065f666ce5fc"
      },
      "outputs": [
        {
          "output_type": "stream",
          "name": "stdout",
          "text": [
            "All good!\n"
          ]
        }
      ],
      "source": [
        "train_data_by_label = [[] for i in range(10)]\n",
        "\n",
        "for x, y in train_data:\n",
        "    train_data_by_label[y].append(x)\n",
        "\n",
        "for i in range(len(train_data_by_label)):\n",
        "    if len(train_data_by_label[i]) != 6000:\n",
        "        print('Error. Unexpected length.')\n",
        "print('All good!')"
      ]
    },
    {
      "cell_type": "markdown",
      "id": "8bc997f2-0886-40e7-917c-f6477eba7bf8",
      "metadata": {
        "id": "8bc997f2-0886-40e7-917c-f6477eba7bf8"
      },
      "source": [
        "## Generating mean items\n",
        "\n",
        "The mean items are created by getting the mean of all the tensors in each category of the training dataset.\n",
        "\n",
        "It takes the average of each pixel for all the images in each category."
      ]
    },
    {
      "cell_type": "code",
      "execution_count": 57,
      "id": "46d4a9b2-e3e4-4bbe-b396-5bb12007c11c",
      "metadata": {
        "execution": {
          "iopub.execute_input": "2023-05-04T02:16:08.130691Z",
          "iopub.status.busy": "2023-05-04T02:16:08.130194Z"
        },
        "id": "46d4a9b2-e3e4-4bbe-b396-5bb12007c11c"
      },
      "outputs": [],
      "source": [
        "mean_items = [None for i in range(10)]\n",
        "samples = [None for i in range(10)]\n",
        "sample_index = 0\n",
        "\n",
        "for label in range(10):\n",
        "    stacked = torch.stack(train_data_by_label[label]).squeeze()\n",
        "    samples[label] = stacked[sample_index]\n",
        "    mean = stacked.mean(0)\n",
        "    mean_items[label] = mean"
      ]
    },
    {
      "cell_type": "markdown",
      "id": "3cd8c702-2cea-4786-adaa-559111497a53",
      "metadata": {
        "execution": {
          "iopub.execute_input": "2023-03-27T22:13:54.829821Z",
          "iopub.status.busy": "2023-03-27T22:13:54.828911Z",
          "iopub.status.idle": "2023-03-27T22:13:54.832994Z",
          "shell.execute_reply": "2023-03-27T22:13:54.832245Z",
          "shell.execute_reply.started": "2023-03-27T22:13:54.829788Z"
        },
        "id": "3cd8c702-2cea-4786-adaa-559111497a53"
      },
      "source": [
        "## Try it yourself:\n",
        "Change `sample_index` to see different samples"
      ]
    },
    {
      "cell_type": "markdown",
      "id": "7bb8c1ea-bfc0-46b8-84d2-17e85a6c5417",
      "metadata": {
        "id": "7bb8c1ea-bfc0-46b8-84d2-17e85a6c5417"
      },
      "source": [
        "# Samples"
      ]
    },
    {
      "cell_type": "code",
      "execution_count": 58,
      "id": "8e05fdc7-7860-4a6e-93a1-95d9c91b5221",
      "metadata": {
        "execution": {
          "iopub.execute_input": "2023-05-04T02:16:08.643226Z",
          "iopub.status.busy": "2023-05-04T02:16:08.642964Z",
          "iopub.status.idle": "2023-05-04T02:16:09.448273Z",
          "shell.execute_reply": "2023-05-04T02:16:09.447492Z",
          "shell.execute_reply.started": "2023-05-04T02:16:08.643200Z"
        },
        "colab": {
          "base_uri": "https://localhost:8080/",
          "height": 156
        },
        "id": "8e05fdc7-7860-4a6e-93a1-95d9c91b5221",
        "outputId": "13353cfa-7103-4dd9-be56-6a1bd51a3494"
      },
      "outputs": [
        {
          "output_type": "display_data",
          "data": {
            "text/plain": [
              "<Figure size 2000x1000 with 10 Axes>"
            ],
            "image/png": "[encoded data removed]"
          },
          "metadata": {}
        }
      ],
      "source": [
        "fig, axs = plt.subplots(1, 10, figsize=(20,10))\n",
        "axs = axs.ravel()\n",
        "\n",
        "for i in range(10):\n",
        "    axs[i].imshow(samples[i])\n",
        "    axs[i].set_title(f'{classes[i]}')\n",
        "    axs[i].axis('off')\n",
        "    \n",
        "plt.show()"
      ]
    },
    {
      "cell_type": "markdown",
      "id": "ecb61858-2db2-418a-9d43-d1508bd1dfda",
      "metadata": {
        "id": "ecb61858-2db2-418a-9d43-d1508bd1dfda"
      },
      "source": [
        "# Mean items"
      ]
    },
    {
      "cell_type": "code",
      "execution_count": 59,
      "id": "28950126-7e3d-4529-bc33-3d112ab36385",
      "metadata": {
        "execution": {
          "iopub.execute_input": "2023-05-04T02:16:09.456837Z",
          "iopub.status.busy": "2023-05-04T02:16:09.449616Z",
          "iopub.status.idle": "2023-05-04T02:16:10.432067Z",
          "shell.execute_reply": "2023-05-04T02:16:10.427416Z",
          "shell.execute_reply.started": "2023-05-04T02:16:09.456805Z"
        },
        "colab": {
          "base_uri": "https://localhost:8080/",
          "height": 156
        },
        "id": "28950126-7e3d-4529-bc33-3d112ab36385",
        "outputId": "58759fa2-5877-481f-cacb-d011b71647fa"
      },
      "outputs": [
        {
          "output_type": "display_data",
          "data": {
            "text/plain": [
              "<Figure size 2000x1000 with 10 Axes>"
            ],
            "image/png": "[encoded data removed]"
          },
          "metadata": {}
        }
      ],
      "source": [
        "fig, axs = plt.subplots(1, 10, figsize=(20,10))\n",
        "axs = axs.ravel()\n",
        "\n",
        "for i in range(10):\n",
        "    axs[i].imshow(mean_items[i])\n",
        "    axs[i].set_title(f'{classes[i]}')\n",
        "    axs[i].axis('off')\n",
        "    \n",
        "plt.show()"
      ]
    },
    {
      "cell_type": "code",
      "execution_count": 60,
      "id": "4a61e5f3-4450-4a98-a9a4-c7e1ee9315a3",
      "metadata": {
        "execution": {
          "iopub.execute_input": "2023-05-04T02:16:10.433327Z",
          "iopub.status.busy": "2023-05-04T02:16:10.433044Z",
          "iopub.status.idle": "2023-05-04T02:16:10.438635Z",
          "shell.execute_reply": "2023-05-04T02:16:10.437364Z",
          "shell.execute_reply.started": "2023-05-04T02:16:10.433299Z"
        },
        "id": "4a61e5f3-4450-4a98-a9a4-c7e1ee9315a3"
      },
      "outputs": [],
      "source": [
        "def mnist_distance(a, b): return (a - b).abs().mean((-1, -2))"
      ]
    },
    {
      "cell_type": "code",
      "execution_count": 61,
      "id": "23c12d69-4dcf-4ce3-9127-98d1ed195b10",
      "metadata": {
        "execution": {
          "iopub.execute_input": "2023-05-04T02:16:10.441663Z",
          "iopub.status.busy": "2023-05-04T02:16:10.441418Z",
          "iopub.status.idle": "2023-05-04T02:16:10.526844Z",
          "shell.execute_reply": "2023-05-04T02:16:10.526009Z",
          "shell.execute_reply.started": "2023-05-04T02:16:10.441639Z"
        },
        "id": "23c12d69-4dcf-4ce3-9127-98d1ed195b10"
      },
      "outputs": [],
      "source": [
        "test_data = datasets.FashionMNIST(\n",
        "    root=\"data\",\n",
        "    train=False,\n",
        "    download=True,\n",
        "    transform=ToTensor()\n",
        ")"
      ]
    },
    {
      "cell_type": "code",
      "execution_count": 62,
      "id": "9f6a9ccb-d6f5-47f9-adad-5c3e53b2598d",
      "metadata": {
        "execution": {
          "iopub.execute_input": "2023-05-04T02:16:10.533417Z",
          "iopub.status.busy": "2023-05-04T02:16:10.533156Z",
          "iopub.status.idle": "2023-05-04T02:16:12.835373Z",
          "shell.execute_reply": "2023-05-04T02:16:12.834567Z",
          "shell.execute_reply.started": "2023-05-04T02:16:10.533393Z"
        },
        "colab": {
          "base_uri": "https://localhost:8080/"
        },
        "id": "9f6a9ccb-d6f5-47f9-adad-5c3e53b2598d",
        "outputId": "002eda8f-c7ba-4387-852f-186da04b922f"
      },
      "outputs": [
        {
          "output_type": "stream",
          "name": "stdout",
          "text": [
            "All good!\n"
          ]
        }
      ],
      "source": [
        "test_data_by_label = [[] for i in range(10)]\n",
        "\n",
        "for x, y in test_data:\n",
        "    test_data_by_label[y].append(x)\n",
        "\n",
        "for i in range(len(test_data_by_label)):\n",
        "    if len(test_data_by_label[i]) != 1000:\n",
        "        print('Error. Unexpected length.')\n",
        "print('All good!')"
      ]
    },
    {
      "cell_type": "markdown",
      "id": "ed4c76d3-f62a-47ed-9cf6-e9fbbbcb43c3",
      "metadata": {
        "id": "ed4c76d3-f62a-47ed-9cf6-e9fbbbcb43c3"
      },
      "source": [
        "# Samples from a category"
      ]
    },
    {
      "cell_type": "code",
      "execution_count": 63,
      "id": "3e491ef2-7b68-493d-abea-73fc00f8b22a",
      "metadata": {
        "execution": {
          "iopub.execute_input": "2023-05-04T02:16:12.837108Z",
          "iopub.status.busy": "2023-05-04T02:16:12.836624Z",
          "iopub.status.idle": "2023-05-04T02:16:13.552920Z",
          "shell.execute_reply": "2023-05-04T02:16:13.552161Z",
          "shell.execute_reply.started": "2023-05-04T02:16:12.837080Z"
        },
        "colab": {
          "base_uri": "https://localhost:8080/",
          "height": 138
        },
        "id": "3e491ef2-7b68-493d-abea-73fc00f8b22a",
        "outputId": "8212680f-7b62-4269-df98-43f96d6b4993"
      },
      "outputs": [
        {
          "output_type": "display_data",
          "data": {
            "text/plain": [
              "<Figure size 2000x1000 with 10 Axes>"
            ],
            "image/png": "[encoded data removed]"
          },
          "metadata": {}
        }
      ],
      "source": [
        "category_index = 7 # 7 is the label for sneakers\n",
        "first_images = test_data_by_label[category_index][0:10]\n",
        "\n",
        "fig, axs = plt.subplots(1, 10, figsize=(20,10))\n",
        "axs = axs.ravel()\n",
        "\n",
        "for i in range(10):\n",
        "    axs[i].imshow(first_images[i].squeeze())\n",
        "    axs[i].axis('off')\n",
        "    \n",
        "plt.show()"
      ]
    },
    {
      "cell_type": "markdown",
      "id": "3a004021-f23f-407f-8a88-6a00abab905b",
      "metadata": {
        "execution": {
          "iopub.execute_input": "2023-03-28T19:22:28.612224Z",
          "iopub.status.busy": "2023-03-28T19:22:28.611316Z",
          "iopub.status.idle": "2023-03-28T19:22:28.616754Z",
          "shell.execute_reply": "2023-03-28T19:22:28.615919Z",
          "shell.execute_reply.started": "2023-03-28T19:22:28.612196Z"
        },
        "id": "3a004021-f23f-407f-8a88-6a00abab905b"
      },
      "source": [
        "## Try it yourself:\n",
        "Change `category_index` to see samples from a different category"
      ]
    },
    {
      "cell_type": "code",
      "execution_count": 64,
      "id": "8e9a4500-e237-43f0-bb8a-fa72244ea3b9",
      "metadata": {
        "execution": {
          "iopub.execute_input": "2023-05-04T02:16:13.554847Z",
          "iopub.status.busy": "2023-05-04T02:16:13.554294Z",
          "iopub.status.idle": "2023-05-04T02:16:13.819277Z",
          "shell.execute_reply": "2023-05-04T02:16:13.818250Z",
          "shell.execute_reply.started": "2023-05-04T02:16:13.554818Z"
        },
        "id": "8e9a4500-e237-43f0-bb8a-fa72244ea3b9"
      },
      "outputs": [],
      "source": [
        "all_distances = []\n",
        "\n",
        "# loop through categories\n",
        "for i in range(10):\n",
        "    category_distances = []\n",
        "    category_test_images = torch.stack(test_data_by_label[i])\n",
        "    \n",
        "    # loop through means for each category\n",
        "    for j in range(10):\n",
        "        distance = mnist_distance(category_test_images, mean_items[j])\n",
        "        category_distances.append(distance)\n",
        "    \n",
        "    # all images of a given category were tested against all mean items\n",
        "    all_distances.append(torch.stack(category_distances).transpose(0,1))\n",
        "    \n",
        "all_distances = torch.stack(all_distances)"
      ]
    },
    {
      "cell_type": "code",
      "execution_count": 65,
      "id": "690dff9d-cc7b-4e91-93a9-e409551c3084",
      "metadata": {
        "execution": {
          "iopub.execute_input": "2023-05-04T02:16:13.823549Z",
          "iopub.status.busy": "2023-05-04T02:16:13.822935Z",
          "iopub.status.idle": "2023-05-04T02:16:14.135810Z",
          "shell.execute_reply": "2023-05-04T02:16:14.134572Z",
          "shell.execute_reply.started": "2023-05-04T02:16:13.823521Z"
        },
        "id": "690dff9d-cc7b-4e91-93a9-e409551c3084"
      },
      "outputs": [],
      "source": [
        "accuracy_by_label = []\n",
        "\n",
        "for category in range(10):\n",
        "    accuracy = [1 if torch.argmin(all_distances[category][image]) == category else 0 for image in range(1000)]\n",
        "    accuracy_by_label.append(np.mean(accuracy))"
      ]
    },
    {
      "cell_type": "markdown",
      "id": "97515bd1-83b7-4dae-98b8-af726e4e6998",
      "metadata": {
        "id": "97515bd1-83b7-4dae-98b8-af726e4e6998"
      },
      "source": [
        "# Accuracy breakdown by category"
      ]
    },
    {
      "cell_type": "code",
      "execution_count": 66,
      "id": "8a7db4df-685d-44c6-b34d-f33dcf9c7ce5",
      "metadata": {
        "execution": {
          "iopub.execute_input": "2023-05-04T02:16:14.141194Z",
          "iopub.status.busy": "2023-05-04T02:16:14.140804Z",
          "iopub.status.idle": "2023-05-04T02:16:14.160144Z",
          "shell.execute_reply": "2023-05-04T02:16:14.159230Z",
          "shell.execute_reply.started": "2023-05-04T02:16:14.141149Z"
        },
        "colab": {
          "base_uri": "https://localhost:8080/"
        },
        "id": "8a7db4df-685d-44c6-b34d-f33dcf9c7ce5",
        "outputId": "bb43eba9-0b6c-4c6d-e76a-45f38683aa88"
      },
      "outputs": [
        {
          "output_type": "stream",
          "name": "stdout",
          "text": [
            "T-shirt/top: 0.623\n",
            "Trouser: 0.933\n",
            "Pullover: 0.254\n",
            "Dress: 0.702\n",
            "Coat: 0.656\n",
            "Sandal: 0.529\n",
            "Shirt: 0.18\n",
            "Sneaker: 0.918\n",
            "Bag: 0.513\n",
            "Ankle boot: 0.816\n"
          ]
        }
      ],
      "source": [
        "for i in range(10):\n",
        "    print(f'{classes[i]}: {accuracy_by_label[i]}')"
      ]
    },
    {
      "cell_type": "markdown",
      "id": "c6c11e80-6803-4afb-aeeb-1e590319e395",
      "metadata": {
        "id": "c6c11e80-6803-4afb-aeeb-1e590319e395"
      },
      "source": [
        "# Average accuracy of the baseline"
      ]
    },
    {
      "cell_type": "code",
      "execution_count": 67,
      "id": "499b8d1a-bcad-4a84-9338-de0262310ebc",
      "metadata": {
        "execution": {
          "iopub.execute_input": "2023-05-04T02:16:14.161726Z",
          "iopub.status.busy": "2023-05-04T02:16:14.161286Z",
          "iopub.status.idle": "2023-05-04T02:16:14.176358Z",
          "shell.execute_reply": "2023-05-04T02:16:14.175579Z",
          "shell.execute_reply.started": "2023-05-04T02:16:14.161684Z"
        },
        "colab": {
          "base_uri": "https://localhost:8080/"
        },
        "id": "499b8d1a-bcad-4a84-9338-de0262310ebc",
        "outputId": "8814b88b-d558-4986-9683-510ce82be6a1"
      },
      "outputs": [
        {
          "output_type": "execute_result",
          "data": {
            "text/plain": [
              "0.6123999999999999"
            ]
          },
          "metadata": {},
          "execution_count": 67
        }
      ],
      "source": [
        "baseline_accuracy = np.mean(accuracy_by_label)\n",
        "baseline_accuracy"
      ]
    },
    {
      "cell_type": "markdown",
      "source": [
        "## Looking at *confusions* "
      ],
      "metadata": {
        "id": "5mxZRPH1yB3y"
      },
      "id": "5mxZRPH1yB3y"
    },
    {
      "cell_type": "code",
      "execution_count": 79,
      "id": "326f745a-92ed-46f5-9257-02b218000930",
      "metadata": {
        "execution": {
          "iopub.execute_input": "2023-05-04T02:16:56.874050Z",
          "iopub.status.busy": "2023-05-04T02:16:56.872819Z",
          "iopub.status.idle": "2023-05-04T02:16:57.067166Z",
          "shell.execute_reply": "2023-05-04T02:16:57.062981Z",
          "shell.execute_reply.started": "2023-05-04T02:16:56.874020Z"
        },
        "colab": {
          "base_uri": "https://localhost:8080/",
          "height": 447
        },
        "id": "326f745a-92ed-46f5-9257-02b218000930",
        "outputId": "a09a5a89-6b30-428c-c301-40a5c9acd359"
      },
      "outputs": [
        {
          "output_type": "execute_result",
          "data": {
            "text/plain": [
              "<matplotlib.image.AxesImage at 0x7fe071901660>"
            ]
          },
          "metadata": {},
          "execution_count": 79
        },
        {
          "output_type": "display_data",
          "data": {
            "text/plain": [
              "<Figure size 640x480 with 1 Axes>"
            ],
            "image/png": "[encoded data removed]"
          },
          "metadata": {}
        }
      ],
      "source": [
        "a_coat, a_coat_label = test_data[6]\n",
        "plt.imshow(a_coat.squeeze())"
      ]
    },
    {
      "cell_type": "markdown",
      "id": "776fdef4-61c4-4f3f-957b-17001f0782f3",
      "metadata": {
        "id": "776fdef4-61c4-4f3f-957b-17001f0782f3"
      },
      "source": [
        "This coat is so light, it looks closer to the average sandal in the pixel comparison"
      ]
    },
    {
      "cell_type": "code",
      "source": [
        "coat_distances = []\n",
        "\n",
        "for i in range(10):\n",
        "  coat_distances.append(mnist_distance(a_coat, mean_items[i]))\n",
        "\n",
        "print(f'\\nBaseline with pixel comparison\\nPredicted: {classes[torch.argmin(torch.stack(coat_distances))]}, Actual: {classes[a_coat_label]}')"
      ],
      "metadata": {
        "colab": {
          "base_uri": "https://localhost:8080/"
        },
        "id": "A5j9zIaMv4vt",
        "outputId": "8fbcd22a-3438-4dfd-9c0b-d1d2b6bb2876"
      },
      "id": "A5j9zIaMv4vt",
      "execution_count": 69,
      "outputs": [
        {
          "output_type": "stream",
          "name": "stdout",
          "text": [
            "\n",
            "Baseline with pixel comparison\n",
            "Predicted: Sandal, Actual: Coat\n"
          ]
        }
      ]
    },
    {
      "cell_type": "markdown",
      "source": [
        "---\n",
        "\n",
        "# Using a neural network"
      ],
      "metadata": {
        "id": "9lfJSQ9GyI_A"
      },
      "id": "9lfJSQ9GyI_A"
    },
    {
      "cell_type": "code",
      "execution_count": 70,
      "id": "3191c09f-9baa-441d-a41f-ab1e2230ed28",
      "metadata": {
        "execution": {
          "iopub.execute_input": "2023-05-04T01:15:50.301802Z",
          "iopub.status.busy": "2023-05-04T01:15:50.301536Z",
          "iopub.status.idle": "2023-05-04T01:15:53.400207Z",
          "shell.execute_reply": "2023-05-04T01:15:53.398817Z",
          "shell.execute_reply.started": "2023-05-04T01:15:50.301778Z"
        },
        "id": "3191c09f-9baa-441d-a41f-ab1e2230ed28"
      },
      "outputs": [],
      "source": [
        "class NeuralNetwork(nn.Module):\n",
        "    def __init__(self):\n",
        "        super(NeuralNetwork, self).__init__()\n",
        "        self.flatten = nn.Flatten()\n",
        "        self.linear_relu_stack = nn.Sequential(\n",
        "            nn.Linear(28*28, 512),\n",
        "            nn.ReLU(),\n",
        "            nn.Linear(512, 512),\n",
        "            nn.ReLU(),\n",
        "            nn.Linear(512, 10),\n",
        "        )\n",
        "        \n",
        "    def forward(self, x):\n",
        "        x = self.flatten(x)\n",
        "        logits = self.linear_relu_stack(x)\n",
        "        return logits\n",
        "\n",
        "model = NeuralNetwork().to(device)"
      ]
    },
    {
      "cell_type": "code",
      "execution_count": 71,
      "id": "0473cdf4-6bf5-4865-a984-1fcaf47714a4",
      "metadata": {
        "execution": {
          "iopub.execute_input": "2023-05-04T01:15:53.402376Z",
          "iopub.status.busy": "2023-05-04T01:15:53.401942Z",
          "iopub.status.idle": "2023-05-04T01:15:53.407708Z",
          "shell.execute_reply": "2023-05-04T01:15:53.406660Z",
          "shell.execute_reply.started": "2023-05-04T01:15:53.402348Z"
        },
        "id": "0473cdf4-6bf5-4865-a984-1fcaf47714a4"
      },
      "outputs": [],
      "source": [
        "loss_fn = nn.CrossEntropyLoss()\n",
        "optimizer = torch.optim.SGD(model.parameters(), lr=1e-3)"
      ]
    },
    {
      "cell_type": "code",
      "execution_count": 72,
      "id": "821c535b-516d-4640-b4e2-fa62d6e8732c",
      "metadata": {
        "execution": {
          "iopub.execute_input": "2023-05-04T01:16:01.152202Z",
          "iopub.status.busy": "2023-05-04T01:16:01.151826Z",
          "iopub.status.idle": "2023-05-04T01:16:01.159428Z",
          "shell.execute_reply": "2023-05-04T01:16:01.158405Z",
          "shell.execute_reply.started": "2023-05-04T01:16:01.152129Z"
        },
        "id": "821c535b-516d-4640-b4e2-fa62d6e8732c"
      },
      "outputs": [],
      "source": [
        "def train(dataloader, model, loss_fn, optimizer):\n",
        "    size = len(dataloader.dataset)\n",
        "    model.train()\n",
        "    for batch, (X, y) in enumerate(dataloader):\n",
        "        if device != \"cpu\":\n",
        "            X, y = X.to(device), y.to(device)\n",
        "        \n",
        "        pred = model(X)\n",
        "        loss = loss_fn(pred, y)\n",
        "        \n",
        "        optimizer.zero_grad()\n",
        "        loss.backward()\n",
        "        optimizer.step()\n",
        "        \n",
        "        if batch % 100 == 0:\n",
        "            loss, current = loss.item(), (batch + 1) * len(X)\n",
        "            print(f\"loss: {loss:>7f}, [{current:>5d}/{size:>5d}]\")"
      ]
    },
    {
      "cell_type": "code",
      "execution_count": 73,
      "id": "937766f0-ba3a-49dd-9b61-9caf83d32823",
      "metadata": {
        "execution": {
          "iopub.execute_input": "2023-05-04T01:20:17.795536Z",
          "iopub.status.busy": "2023-05-04T01:20:17.793652Z",
          "iopub.status.idle": "2023-05-04T01:20:17.805341Z",
          "shell.execute_reply": "2023-05-04T01:20:17.803395Z",
          "shell.execute_reply.started": "2023-05-04T01:20:17.795522Z"
        },
        "id": "937766f0-ba3a-49dd-9b61-9caf83d32823"
      },
      "outputs": [],
      "source": [
        "def test(dataloader, model, loss_fn):\n",
        "    size = len(dataloader.dataset)\n",
        "    num_batches = len(dataloader)\n",
        "    model.eval()\n",
        "    test_loss, correct = 0, 0\n",
        "    with torch.no_grad():\n",
        "        for X, y in dataloader:\n",
        "            X, y = X.to(device), y.to(device)\n",
        "            pred = model(X)\n",
        "            test_loss += loss_fn(pred, y).item()\n",
        "            correct += (pred.argmax(1) == y).type(torch.float).sum().item()\n",
        "    test_loss /= num_batches\n",
        "    correct /= size\n",
        "    print(f\"Test error: \\n Accuracy: {(100*correct):>0.1f}%, Avg loss: {test_loss:>8f} \\n\")"
      ]
    },
    {
      "cell_type": "code",
      "execution_count": 74,
      "id": "5f17a1dc-8f45-41de-9b71-187dc8c8da76",
      "metadata": {
        "execution": {
          "iopub.execute_input": "2023-05-04T01:15:50.294663Z",
          "iopub.status.busy": "2023-05-04T01:15:50.294348Z",
          "iopub.status.idle": "2023-05-04T01:15:50.300430Z",
          "shell.execute_reply": "2023-05-04T01:15:50.299541Z",
          "shell.execute_reply.started": "2023-05-04T01:15:50.294635Z"
        },
        "id": "5f17a1dc-8f45-41de-9b71-187dc8c8da76"
      },
      "outputs": [],
      "source": [
        "train_dataloader = DataLoader(train_data, batch_size=64)\n",
        "test_dataloader = DataLoader(test_data, batch_size=64)"
      ]
    },
    {
      "cell_type": "code",
      "execution_count": 24,
      "id": "75c980da-1552-483f-ba44-d3fa39648336",
      "metadata": {
        "execution": {
          "iopub.execute_input": "2023-05-04T01:20:18.866036Z",
          "iopub.status.busy": "2023-05-04T01:20:18.865696Z",
          "iopub.status.idle": "2023-05-04T01:21:12.293972Z",
          "shell.execute_reply": "2023-05-04T01:21:12.292670Z",
          "shell.execute_reply.started": "2023-05-04T01:20:18.866011Z"
        },
        "colab": {
          "base_uri": "https://localhost:8080/"
        },
        "id": "75c980da-1552-483f-ba44-d3fa39648336",
        "outputId": "03d1e177-f13f-4189-dc20-95ddcdc8c579"
      },
      "outputs": [
        {
          "output_type": "stream",
          "name": "stdout",
          "text": [
            "Epoch 1\n",
            "-------------------------------\n",
            "loss: 2.311673, [   64/60000]\n",
            "loss: 2.299227, [ 6464/60000]\n",
            "loss: 2.281137, [12864/60000]\n",
            "loss: 2.263207, [19264/60000]\n",
            "loss: 2.245568, [25664/60000]\n",
            "loss: 2.232702, [32064/60000]\n",
            "loss: 2.222782, [38464/60000]\n",
            "loss: 2.201670, [44864/60000]\n",
            "loss: 2.190649, [51264/60000]\n",
            "loss: 2.168225, [57664/60000]\n",
            "Test error: \n",
            " Accuracy: 48.2%, Avg loss: 2.157065 \n",
            "\n",
            "Epoch 2\n",
            "-------------------------------\n",
            "loss: 2.168553, [   64/60000]\n",
            "loss: 2.155025, [ 6464/60000]\n",
            "loss: 2.096412, [12864/60000]\n",
            "loss: 2.110275, [19264/60000]\n",
            "loss: 2.053044, [25664/60000]\n",
            "loss: 2.018328, [32064/60000]\n",
            "loss: 2.030789, [38464/60000]\n",
            "loss: 1.961182, [44864/60000]\n",
            "loss: 1.955887, [51264/60000]\n",
            "loss: 1.900697, [57664/60000]\n",
            "Test error: \n",
            " Accuracy: 58.7%, Avg loss: 1.886838 \n",
            "\n",
            "Epoch 3\n",
            "-------------------------------\n",
            "loss: 1.918088, [   64/60000]\n",
            "loss: 1.884685, [ 6464/60000]\n",
            "loss: 1.763732, [12864/60000]\n",
            "loss: 1.812748, [19264/60000]\n",
            "loss: 1.689504, [25664/60000]\n",
            "loss: 1.666705, [32064/60000]\n",
            "loss: 1.678045, [38464/60000]\n",
            "loss: 1.586120, [44864/60000]\n",
            "loss: 1.598803, [51264/60000]\n",
            "loss: 1.507476, [57664/60000]\n",
            "Test error: \n",
            " Accuracy: 61.1%, Avg loss: 1.520704 \n",
            "\n",
            "Epoch 4\n",
            "-------------------------------\n",
            "loss: 1.586154, [   64/60000]\n",
            "loss: 1.551346, [ 6464/60000]\n",
            "loss: 1.395454, [12864/60000]\n",
            "loss: 1.476769, [19264/60000]\n",
            "loss: 1.345945, [25664/60000]\n",
            "loss: 1.362685, [32064/60000]\n",
            "loss: 1.364179, [38464/60000]\n",
            "loss: 1.298594, [44864/60000]\n",
            "loss: 1.324254, [51264/60000]\n",
            "loss: 1.229019, [57664/60000]\n",
            "Test error: \n",
            " Accuracy: 62.8%, Avg loss: 1.259957 \n",
            "\n",
            "Epoch 5\n",
            "-------------------------------\n",
            "loss: 1.338718, [   64/60000]\n",
            "loss: 1.320556, [ 6464/60000]\n",
            "loss: 1.148245, [12864/60000]\n",
            "loss: 1.261043, [19264/60000]\n",
            "loss: 1.127651, [25664/60000]\n",
            "loss: 1.169615, [32064/60000]\n",
            "loss: 1.175436, [38464/60000]\n",
            "loss: 1.123663, [44864/60000]\n",
            "loss: 1.154510, [51264/60000]\n",
            "loss: 1.069890, [57664/60000]\n",
            "Test error: \n",
            " Accuracy: 64.4%, Avg loss: 1.099178 \n",
            "\n",
            "Done!\n"
          ]
        }
      ],
      "source": [
        "epochs = 5\n",
        "for t in range(epochs):\n",
        "    print(f\"Epoch {t+1}\\n-------------------------------\")\n",
        "    train(train_dataloader, model, loss_fn, optimizer)\n",
        "    test(test_dataloader, model, loss_fn)\n",
        "print(\"Done!\")"
      ]
    },
    {
      "cell_type": "code",
      "execution_count": 83,
      "id": "07487959-2160-448d-ac62-147d1e44a313",
      "metadata": {
        "collapsed": true,
        "execution": {
          "iopub.execute_input": "2023-05-04T02:25:11.729850Z",
          "iopub.status.busy": "2023-05-04T02:25:11.729466Z",
          "iopub.status.idle": "2023-05-04T02:25:11.749004Z",
          "shell.execute_reply": "2023-05-04T02:25:11.747931Z",
          "shell.execute_reply.started": "2023-05-04T02:25:11.729821Z"
        },
        "jupyter": {
          "outputs_hidden": true
        },
        "colab": {
          "base_uri": "https://localhost:8080/"
        },
        "id": "07487959-2160-448d-ac62-147d1e44a313",
        "outputId": "04595990-611f-4f0d-a484-3dafa6d9b6a4"
      },
      "outputs": [
        {
          "output_type": "stream",
          "name": "stdout",
          "text": [
            "Saved PyTorch Model State to model.pth\n"
          ]
        }
      ],
      "source": [
        "torch.save(model.state_dict(), \"model.pth\")\n",
        "print(\"Saved PyTorch Model State to model.pth\")"
      ]
    },
    {
      "cell_type": "code",
      "execution_count": 93,
      "id": "56ecc636-5d1a-4bdf-a6c9-6827d7e064b9",
      "metadata": {
        "colab": {
          "base_uri": "https://localhost:8080/"
        },
        "id": "56ecc636-5d1a-4bdf-a6c9-6827d7e064b9",
        "outputId": "2a4a4d17-f4ab-4048-b193-d0750fd786d0"
      },
      "outputs": [
        {
          "output_type": "execute_result",
          "data": {
            "text/plain": [
              "<All keys matched successfully>"
            ]
          },
          "metadata": {},
          "execution_count": 93
        }
      ],
      "source": [
        "model = NeuralNetwork()\n",
        "model.load_state_dict(torch.load(\"model.pth\"))"
      ]
    },
    {
      "cell_type": "markdown",
      "id": "980deafd-04fd-410c-a7cd-0bfcee0fb379",
      "metadata": {
        "id": "980deafd-04fd-410c-a7cd-0bfcee0fb379"
      },
      "source": [
        "## Next experiments\n",
        "\n",
        "- Using the fast.ai Learner\n",
        "- Batching the baseline calculations"
      ]
    }
  ],
  "metadata": {
    "kernelspec": {
      "display_name": "Python 3 (ipykernel)",
      "language": "python",
      "name": "python3"
    },
    "language_info": {
      "codemirror_mode": {
        "name": "ipython",
        "version": 3
      },
      "file_extension": ".py",
      "mimetype": "text/x-python",
      "name": "python",
      "nbconvert_exporter": "python",
      "pygments_lexer": "ipython3",
      "version": "3.9.13"
    },
    "papermill": {
      "default_parameters": {},
      "duration": 24.424144,
      "end_time": "2023-01-20T22:38:47.310506",
      "environment_variables": {},
      "exception": null,
      "input_path": "__notebook__.ipynb",
      "output_path": "__notebook__.ipynb",
      "parameters": {},
      "start_time": "2023-01-20T22:38:22.886362",
      "version": "2.3.4"
    },
    "colab": {
      "provenance": []
    },
    "accelerator": "GPU",
    "gpuClass": "standard"
  },
  "nbformat": 4,
  "nbformat_minor": 5
}